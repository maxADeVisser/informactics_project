{
  "nbformat": 4,
  "nbformat_minor": 0,
  "metadata": {
    "colab": {
      "name": "Informaik_projekt.ipynb",
      "provenance": [],
      "collapsed_sections": []
    },
    "kernelspec": {
      "name": "python3",
      "display_name": "Python 3"
    },
    "language_info": {
      "name": "python"
    }
  },
  "cells": [
    {
      "cell_type": "code",
      "metadata": {
        "id": "EbzvqsyNMIao"
      },
      "source": [
        "import requests \n",
        "import plotly.express as px\n",
        "import plotly.graph_objects as pgo\n",
        "import plotly.offline as pyo\n",
        "import pandas as pd"
      ],
      "execution_count": 238,
      "outputs": []
    },
    {
      "cell_type": "code",
      "metadata": {
        "id": "E7edBB6FMHDu"
      },
      "source": [
        "all_scales = ['goitre39', 'hyperthyroidscore', 'hypothyroidscore', 'eyescore', 'tirednessscore',\n",
        "                    'cognitivescore', 'anxietyscore', 'depressivityscore', 'emotionalscore', 'sociallifescore',\n",
        "                    'dailylifescore','cosmeticscore','overallqolscore','compositescore']  "
      ],
      "execution_count": 239,
      "outputs": []
    },
    {
      "cell_type": "markdown",
      "metadata": {
        "id": "ySc5AWVZnmem"
      },
      "source": [
        "###fetch_n_recordIDs_for_category"
      ]
    },
    {
      "cell_type": "code",
      "metadata": {
        "id": "eNJsaR05SOS3"
      },
      "source": [
        "def fetch_n_recordIDs_for_category(scale, recordIDs): # returnerer en liste af scores for en liste af recordIDs\n",
        "  api_call = { \n",
        "        'token': 'DD0E88BF0EF8E12ACD577F664A515337', # api token\n",
        "        'content': 'record',\n",
        "        'format': 'json',\n",
        "        'type': 'flat',\n",
        "        'records[0]': '', # initally tom\n",
        "        'fields[0]': f'{scale}', # hvilken scale du vil have svar ud for\n",
        "        'forms[0]': 'record_id', # specifies we are searching with a recordID\n",
        "        'returnFormat': 'json'}\n",
        "    \n",
        "  scale_values = [] \n",
        "\n",
        "  for recID in recordIDs:\n",
        "    api_call['records[0]'] = recID\n",
        "    response = requests.post('https://redcap.regionh.dk/api/', data=api_call) \n",
        "    if (str(response.status_code) == '200'): # if the HTML requests is succesfull\n",
        "      json_response = response.json()\n",
        "      value = json_response[0][scale]\n",
        "      \n",
        "      scale_values.append(value)\n",
        "  df = pd.DataFrame({\"RecordID\": recordIDs, f'{scale}' : scale_values})\n",
        "  #df.set_index('RecordID', inplace=True) # gør noget mærkeligt jeg ikke forstår\n",
        "  \n",
        "  return df\n",
        "    "
      ],
      "execution_count": 240,
      "outputs": []
    },
    {
      "cell_type": "markdown",
      "metadata": {
        "id": "3r29kBdZncI6"
      },
      "source": [
        "###fetch_n_categories_for_recordID"
      ]
    },
    {
      "cell_type": "code",
      "metadata": {
        "id": "3wUM-HzJMC2J"
      },
      "source": [
        "def fetch_n_categories_for_recordID(recordID, scales): # contacts the API and returns a pandas dataframe list with thypro scores for a recordID\n",
        "    api_call = { \n",
        "        'token': 'DD0E88BF0EF8E12ACD577F664A515337', # api token\n",
        "        'content': 'record',\n",
        "        'format': 'json',\n",
        "        'type': 'flat',\n",
        "        'records[0]': f'{recordID}', # hvilken record du vil svar ud for\n",
        "        'fields[0]': '', # er initially None\n",
        "        'forms[0]': 'record_id', # specifies we are searching with a recordID\n",
        "        'returnFormat': 'json'}\n",
        "        \n",
        "    thypro_scale_values= {}\n",
        "    for scale in scales: # makes the list for holding the data\n",
        "        thypro_scale_values[f'{scale}'] = 0 # tilføjer skalaen til dicten\n",
        "\n",
        "        api_call['fields[0]'] = scale\n",
        "        response = requests.post('https://redcap.regionh.dk/api/', data=api_call) # contacts the API and gets the response\n",
        "\n",
        "        if (str(response.status_code) == '200'): # if the API call is succesfull\n",
        "            json_response = response.json()\n",
        "\n",
        "            scale_value = json_response[0][scale] \n",
        "            if(scale_value == '-1' or scale_value == ''): # if a value is not present, it returns -1 or maybe ''?? \n",
        "                scale_value = 0\n",
        "        \n",
        "            thypro_scale_values[scale] = scale_value # updates the result from the API call in the stored dict\n",
        "        else:\n",
        "            print(f\"HTTP get request failed with {str(response.status_code)} status code\")\n",
        "\n",
        "    values_raw = [float(x) for x in list(thypro_scale_values.values())] # a list with only the values from thypro_scale_values dict\n",
        "    scales_raw = [x for x in list(thypro_scale_values.keys())]\n",
        "     \n",
        "    return pd.DataFrame({\"Kategorier\": scales_raw, \"Score\":values_raw}) "
      ],
      "execution_count": 241,
      "outputs": []
    },
    {
      "cell_type": "markdown",
      "metadata": {
        "id": "ZPeA3hS0niHx"
      },
      "source": [
        "#Plot funktioner"
      ]
    },
    {
      "cell_type": "code",
      "metadata": {
        "id": "OH9--lEztD4S"
      },
      "source": [
        " from google.colab import files"
      ],
      "execution_count": 242,
      "outputs": []
    },
    {
      "cell_type": "code",
      "metadata": {
        "id": "rG7Rfvt_t4wH"
      },
      "source": [
        "def plot_line(recordID_list, categories): # plots a line chart. Takes a list of records, and what categories to display\n",
        "  trace_dict = {}\n",
        "  for cat in categories:\n",
        "    value_for_category = fetch_n_recordIDs_for_category(cat, recordID_list) # pandas dt\n",
        "    trace = pgo.Scatter(x = value_for_category.iloc[:,0], \n",
        "                        y = value_for_category.iloc[:,1],\n",
        "                        mode = 'lines',\n",
        "                        name =f'{cat}')\n",
        "    trace_dict[f\"{cat}%s\" %cat] = trace\n",
        "\n",
        "  trace_list=list(trace_dict.values()) # laver en liste med de forskellige traces \n",
        "\n",
        "  layout = pgo.Layout(title = \"ThyPRO Scores\")\n",
        "  figure = pgo.Figure(data = trace_list, layout = layout)\n",
        "  pyo.plot(figure)\n",
        "\n",
        "  files.download('temp-plot.html') "
      ],
      "execution_count": 243,
      "outputs": []
    },
    {
      "cell_type": "code",
      "metadata": {
        "id": "ovAcGohI3DhG"
      },
      "source": [
        "def plot_radar(record_IDs, categories): # function for plotting ThyPRO data in radar chart\n",
        "    fig = pgo.Figure() \n",
        "    for rec in record_IDs:\n",
        "      df = fetch_n_categories_for_recordID(rec, categories) \n",
        "      fig.add_trace(pgo.Scatterpolar(r=df.iloc[:,1], theta=categories, name=f'{rec}'))\n",
        "    \n",
        "    fig.update_layout(polar=dict(radialaxis=dict(visible=True,range=[0, 100])),showlegend=True)\n",
        "    fig.show()"
      ],
      "execution_count": 263,
      "outputs": []
    },
    {
      "cell_type": "markdown",
      "metadata": {
        "id": "-cQgE1zK1W2B"
      },
      "source": [
        "# Main"
      ]
    },
    {
      "cell_type": "code",
      "metadata": {
        "colab": {
          "base_uri": "https://localhost:8080/",
          "height": 17
        },
        "id": "3jjdYO4EtFgq",
        "outputId": "44b73a62-23d0-4084-b370-5ee6e0b831f7"
      },
      "source": [
        "plot_line([26,27,28], all_scales)"
      ],
      "execution_count": 246,
      "outputs": [
        {
          "output_type": "display_data",
          "data": {
            "application/javascript": [
              "\n",
              "    async function download(id, filename, size) {\n",
              "      if (!google.colab.kernel.accessAllowed) {\n",
              "        return;\n",
              "      }\n",
              "      const div = document.createElement('div');\n",
              "      const label = document.createElement('label');\n",
              "      label.textContent = `Downloading \"${filename}\": `;\n",
              "      div.appendChild(label);\n",
              "      const progress = document.createElement('progress');\n",
              "      progress.max = size;\n",
              "      div.appendChild(progress);\n",
              "      document.body.appendChild(div);\n",
              "\n",
              "      const buffers = [];\n",
              "      let downloaded = 0;\n",
              "\n",
              "      const channel = await google.colab.kernel.comms.open(id);\n",
              "      // Send a message to notify the kernel that we're ready.\n",
              "      channel.send({})\n",
              "\n",
              "      for await (const message of channel.messages) {\n",
              "        // Send a message to notify the kernel that we're ready.\n",
              "        channel.send({})\n",
              "        if (message.buffers) {\n",
              "          for (const buffer of message.buffers) {\n",
              "            buffers.push(buffer);\n",
              "            downloaded += buffer.byteLength;\n",
              "            progress.value = downloaded;\n",
              "          }\n",
              "        }\n",
              "      }\n",
              "      const blob = new Blob(buffers, {type: 'application/binary'});\n",
              "      const a = document.createElement('a');\n",
              "      a.href = window.URL.createObjectURL(blob);\n",
              "      a.download = filename;\n",
              "      div.appendChild(a);\n",
              "      a.click();\n",
              "      div.remove();\n",
              "    }\n",
              "  "
            ],
            "text/plain": [
              "<IPython.core.display.Javascript object>"
            ]
          },
          "metadata": {}
        },
        {
          "output_type": "display_data",
          "data": {
            "application/javascript": [
              "download(\"download_c3573aa7-dc22-481a-a2e0-14e05483cf66\", \"temp-plot.html\", 3295395)"
            ],
            "text/plain": [
              "<IPython.core.display.Javascript object>"
            ]
          },
          "metadata": {}
        }
      ]
    },
    {
      "cell_type": "code",
      "metadata": {
        "colab": {
          "base_uri": "https://localhost:8080/",
          "height": 542
        },
        "id": "D1FnCraEQXoE",
        "outputId": "a7387417-253e-43ef-a926-923b3ee2ec91"
      },
      "source": [
        "plot_radar([25,26,27], all_scales) # plots the radar chart"
      ],
      "execution_count": 264,
      "outputs": [
        {
          "output_type": "display_data",
          "data": {
            "text/html": [
              "<html>\n",
              "<head><meta charset=\"utf-8\" /></head>\n",
              "<body>\n",
              "    <div>\n",
              "            <script src=\"https://cdnjs.cloudflare.com/ajax/libs/mathjax/2.7.5/MathJax.js?config=TeX-AMS-MML_SVG\"></script><script type=\"text/javascript\">if (window.MathJax) {MathJax.Hub.Config({SVG: {font: \"STIX-Web\"}});}</script>\n",
              "                <script type=\"text/javascript\">window.PlotlyConfig = {MathJaxConfig: 'local'};</script>\n",
              "        <script src=\"https://cdn.plot.ly/plotly-latest.min.js\"></script>    \n",
              "            <div id=\"92071fe4-27f8-4d84-81b9-72b6bf77b8ab\" class=\"plotly-graph-div\" style=\"height:525px; width:100%;\"></div>\n",
              "            <script type=\"text/javascript\">\n",
              "                \n",
              "                    window.PLOTLYENV=window.PLOTLYENV || {};\n",
              "                    \n",
              "                if (document.getElementById(\"92071fe4-27f8-4d84-81b9-72b6bf77b8ab\")) {\n",
              "                    Plotly.newPlot(\n",
              "                        '92071fe4-27f8-4d84-81b9-72b6bf77b8ab',\n",
              "                        [{\"name\": \"25\", \"r\": [73.0, 84.0, 43.75, 8.0, 67.0, 60.0, 63.0, 45.0, 44.0, 25.0, 46.0, 51.0, 50.0, 53.41], \"theta\": [\"goitre39\", \"hyperthyroidscore\", \"hypothyroidscore\", \"eyescore\", \"tirednessscore\", \"cognitivescore\", \"anxietyscore\", \"depressivityscore\", \"emotionalscore\", \"sociallifescore\", \"dailylifescore\", \"cosmeticscore\", \"overallqolscore\", \"compositescore\"], \"type\": \"scatterpolar\"}, {\"name\": \"26\", \"r\": [84.0, 38.0, 81.25, 20.0, 50.0, 29.0, 41.0, 54.0, 60.0, 58.0, 0.0, 43.0, 100.0, 46.59], \"theta\": [\"goitre39\", \"hyperthyroidscore\", \"hypothyroidscore\", \"eyescore\", \"tirednessscore\", \"cognitivescore\", \"anxietyscore\", \"depressivityscore\", \"emotionalscore\", \"sociallifescore\", \"dailylifescore\", \"cosmeticscore\", \"overallqolscore\", \"compositescore\"], \"type\": \"scatterpolar\"}, {\"name\": \"27\", \"r\": [20.0, 44.0, 75.0, 68.0, 50.0, 37.0, 49.0, 37.0, 60.0, 92.0, 98.0, 51.0, 25.0, 61.36], \"theta\": [\"goitre39\", \"hyperthyroidscore\", \"hypothyroidscore\", \"eyescore\", \"tirednessscore\", \"cognitivescore\", \"anxietyscore\", \"depressivityscore\", \"emotionalscore\", \"sociallifescore\", \"dailylifescore\", \"cosmeticscore\", \"overallqolscore\", \"compositescore\"], \"type\": \"scatterpolar\"}],\n",
              "                        {\"polar\": {\"radialaxis\": {\"range\": [0, 100], \"visible\": true}}, \"showlegend\": true, \"template\": {\"data\": {\"bar\": [{\"error_x\": {\"color\": \"#2a3f5f\"}, \"error_y\": {\"color\": \"#2a3f5f\"}, \"marker\": {\"line\": {\"color\": \"#E5ECF6\", \"width\": 0.5}}, \"type\": \"bar\"}], \"barpolar\": [{\"marker\": {\"line\": {\"color\": \"#E5ECF6\", \"width\": 0.5}}, \"type\": \"barpolar\"}], \"carpet\": [{\"aaxis\": {\"endlinecolor\": \"#2a3f5f\", \"gridcolor\": \"white\", \"linecolor\": \"white\", \"minorgridcolor\": \"white\", \"startlinecolor\": \"#2a3f5f\"}, \"baxis\": {\"endlinecolor\": \"#2a3f5f\", \"gridcolor\": \"white\", \"linecolor\": \"white\", \"minorgridcolor\": \"white\", \"startlinecolor\": \"#2a3f5f\"}, \"type\": \"carpet\"}], \"choropleth\": [{\"colorbar\": {\"outlinewidth\": 0, \"ticks\": \"\"}, \"type\": \"choropleth\"}], \"contour\": [{\"colorbar\": {\"outlinewidth\": 0, \"ticks\": \"\"}, \"colorscale\": [[0.0, \"#0d0887\"], [0.1111111111111111, \"#46039f\"], [0.2222222222222222, \"#7201a8\"], [0.3333333333333333, \"#9c179e\"], [0.4444444444444444, \"#bd3786\"], [0.5555555555555556, \"#d8576b\"], [0.6666666666666666, \"#ed7953\"], [0.7777777777777778, \"#fb9f3a\"], [0.8888888888888888, \"#fdca26\"], [1.0, \"#f0f921\"]], \"type\": \"contour\"}], \"contourcarpet\": [{\"colorbar\": {\"outlinewidth\": 0, \"ticks\": \"\"}, \"type\": \"contourcarpet\"}], \"heatmap\": [{\"colorbar\": {\"outlinewidth\": 0, \"ticks\": \"\"}, \"colorscale\": [[0.0, \"#0d0887\"], [0.1111111111111111, \"#46039f\"], [0.2222222222222222, \"#7201a8\"], [0.3333333333333333, \"#9c179e\"], [0.4444444444444444, \"#bd3786\"], [0.5555555555555556, \"#d8576b\"], [0.6666666666666666, \"#ed7953\"], [0.7777777777777778, \"#fb9f3a\"], [0.8888888888888888, \"#fdca26\"], [1.0, \"#f0f921\"]], \"type\": \"heatmap\"}], \"heatmapgl\": [{\"colorbar\": {\"outlinewidth\": 0, \"ticks\": \"\"}, \"colorscale\": [[0.0, \"#0d0887\"], [0.1111111111111111, \"#46039f\"], [0.2222222222222222, \"#7201a8\"], [0.3333333333333333, \"#9c179e\"], [0.4444444444444444, \"#bd3786\"], [0.5555555555555556, \"#d8576b\"], [0.6666666666666666, \"#ed7953\"], [0.7777777777777778, \"#fb9f3a\"], [0.8888888888888888, \"#fdca26\"], [1.0, \"#f0f921\"]], \"type\": \"heatmapgl\"}], \"histogram\": [{\"marker\": {\"colorbar\": {\"outlinewidth\": 0, \"ticks\": \"\"}}, \"type\": \"histogram\"}], \"histogram2d\": [{\"colorbar\": {\"outlinewidth\": 0, \"ticks\": \"\"}, \"colorscale\": [[0.0, \"#0d0887\"], [0.1111111111111111, \"#46039f\"], [0.2222222222222222, \"#7201a8\"], [0.3333333333333333, \"#9c179e\"], [0.4444444444444444, \"#bd3786\"], [0.5555555555555556, \"#d8576b\"], [0.6666666666666666, \"#ed7953\"], [0.7777777777777778, \"#fb9f3a\"], [0.8888888888888888, \"#fdca26\"], [1.0, \"#f0f921\"]], \"type\": \"histogram2d\"}], \"histogram2dcontour\": [{\"colorbar\": {\"outlinewidth\": 0, \"ticks\": \"\"}, \"colorscale\": [[0.0, \"#0d0887\"], [0.1111111111111111, \"#46039f\"], [0.2222222222222222, \"#7201a8\"], [0.3333333333333333, \"#9c179e\"], [0.4444444444444444, \"#bd3786\"], [0.5555555555555556, \"#d8576b\"], [0.6666666666666666, \"#ed7953\"], [0.7777777777777778, \"#fb9f3a\"], [0.8888888888888888, \"#fdca26\"], [1.0, \"#f0f921\"]], \"type\": \"histogram2dcontour\"}], \"mesh3d\": [{\"colorbar\": {\"outlinewidth\": 0, \"ticks\": \"\"}, \"type\": \"mesh3d\"}], \"parcoords\": [{\"line\": {\"colorbar\": {\"outlinewidth\": 0, \"ticks\": \"\"}}, \"type\": \"parcoords\"}], \"pie\": [{\"automargin\": true, \"type\": \"pie\"}], \"scatter\": [{\"marker\": {\"colorbar\": {\"outlinewidth\": 0, \"ticks\": \"\"}}, \"type\": \"scatter\"}], \"scatter3d\": [{\"line\": {\"colorbar\": {\"outlinewidth\": 0, \"ticks\": \"\"}}, \"marker\": {\"colorbar\": {\"outlinewidth\": 0, \"ticks\": \"\"}}, \"type\": \"scatter3d\"}], \"scattercarpet\": [{\"marker\": {\"colorbar\": {\"outlinewidth\": 0, \"ticks\": \"\"}}, \"type\": \"scattercarpet\"}], \"scattergeo\": [{\"marker\": {\"colorbar\": {\"outlinewidth\": 0, \"ticks\": \"\"}}, \"type\": \"scattergeo\"}], \"scattergl\": [{\"marker\": {\"colorbar\": {\"outlinewidth\": 0, \"ticks\": \"\"}}, \"type\": \"scattergl\"}], \"scattermapbox\": [{\"marker\": {\"colorbar\": {\"outlinewidth\": 0, \"ticks\": \"\"}}, \"type\": \"scattermapbox\"}], \"scatterpolar\": [{\"marker\": {\"colorbar\": {\"outlinewidth\": 0, \"ticks\": \"\"}}, \"type\": \"scatterpolar\"}], \"scatterpolargl\": [{\"marker\": {\"colorbar\": {\"outlinewidth\": 0, \"ticks\": \"\"}}, \"type\": \"scatterpolargl\"}], \"scatterternary\": [{\"marker\": {\"colorbar\": {\"outlinewidth\": 0, \"ticks\": \"\"}}, \"type\": \"scatterternary\"}], \"surface\": [{\"colorbar\": {\"outlinewidth\": 0, \"ticks\": \"\"}, \"colorscale\": [[0.0, \"#0d0887\"], [0.1111111111111111, \"#46039f\"], [0.2222222222222222, \"#7201a8\"], [0.3333333333333333, \"#9c179e\"], [0.4444444444444444, \"#bd3786\"], [0.5555555555555556, \"#d8576b\"], [0.6666666666666666, \"#ed7953\"], [0.7777777777777778, \"#fb9f3a\"], [0.8888888888888888, \"#fdca26\"], [1.0, \"#f0f921\"]], \"type\": \"surface\"}], \"table\": [{\"cells\": {\"fill\": {\"color\": \"#EBF0F8\"}, \"line\": {\"color\": \"white\"}}, \"header\": {\"fill\": {\"color\": \"#C8D4E3\"}, \"line\": {\"color\": \"white\"}}, \"type\": \"table\"}]}, \"layout\": {\"annotationdefaults\": {\"arrowcolor\": \"#2a3f5f\", \"arrowhead\": 0, \"arrowwidth\": 1}, \"coloraxis\": {\"colorbar\": {\"outlinewidth\": 0, \"ticks\": \"\"}}, \"colorscale\": {\"diverging\": [[0, \"#8e0152\"], [0.1, \"#c51b7d\"], [0.2, \"#de77ae\"], [0.3, \"#f1b6da\"], [0.4, \"#fde0ef\"], [0.5, \"#f7f7f7\"], [0.6, \"#e6f5d0\"], [0.7, \"#b8e186\"], [0.8, \"#7fbc41\"], [0.9, \"#4d9221\"], [1, \"#276419\"]], \"sequential\": [[0.0, \"#0d0887\"], [0.1111111111111111, \"#46039f\"], [0.2222222222222222, \"#7201a8\"], [0.3333333333333333, \"#9c179e\"], [0.4444444444444444, \"#bd3786\"], [0.5555555555555556, \"#d8576b\"], [0.6666666666666666, \"#ed7953\"], [0.7777777777777778, \"#fb9f3a\"], [0.8888888888888888, \"#fdca26\"], [1.0, \"#f0f921\"]], \"sequentialminus\": [[0.0, \"#0d0887\"], [0.1111111111111111, \"#46039f\"], [0.2222222222222222, \"#7201a8\"], [0.3333333333333333, \"#9c179e\"], [0.4444444444444444, \"#bd3786\"], [0.5555555555555556, \"#d8576b\"], [0.6666666666666666, \"#ed7953\"], [0.7777777777777778, \"#fb9f3a\"], [0.8888888888888888, \"#fdca26\"], [1.0, \"#f0f921\"]]}, \"colorway\": [\"#636efa\", \"#EF553B\", \"#00cc96\", \"#ab63fa\", \"#FFA15A\", \"#19d3f3\", \"#FF6692\", \"#B6E880\", \"#FF97FF\", \"#FECB52\"], \"font\": {\"color\": \"#2a3f5f\"}, \"geo\": {\"bgcolor\": \"white\", \"lakecolor\": \"white\", \"landcolor\": \"#E5ECF6\", \"showlakes\": true, \"showland\": true, \"subunitcolor\": \"white\"}, \"hoverlabel\": {\"align\": \"left\"}, \"hovermode\": \"closest\", \"mapbox\": {\"style\": \"light\"}, \"paper_bgcolor\": \"white\", \"plot_bgcolor\": \"#E5ECF6\", \"polar\": {\"angularaxis\": {\"gridcolor\": \"white\", \"linecolor\": \"white\", \"ticks\": \"\"}, \"bgcolor\": \"#E5ECF6\", \"radialaxis\": {\"gridcolor\": \"white\", \"linecolor\": \"white\", \"ticks\": \"\"}}, \"scene\": {\"xaxis\": {\"backgroundcolor\": \"#E5ECF6\", \"gridcolor\": \"white\", \"gridwidth\": 2, \"linecolor\": \"white\", \"showbackground\": true, \"ticks\": \"\", \"zerolinecolor\": \"white\"}, \"yaxis\": {\"backgroundcolor\": \"#E5ECF6\", \"gridcolor\": \"white\", \"gridwidth\": 2, \"linecolor\": \"white\", \"showbackground\": true, \"ticks\": \"\", \"zerolinecolor\": \"white\"}, \"zaxis\": {\"backgroundcolor\": \"#E5ECF6\", \"gridcolor\": \"white\", \"gridwidth\": 2, \"linecolor\": \"white\", \"showbackground\": true, \"ticks\": \"\", \"zerolinecolor\": \"white\"}}, \"shapedefaults\": {\"line\": {\"color\": \"#2a3f5f\"}}, \"ternary\": {\"aaxis\": {\"gridcolor\": \"white\", \"linecolor\": \"white\", \"ticks\": \"\"}, \"baxis\": {\"gridcolor\": \"white\", \"linecolor\": \"white\", \"ticks\": \"\"}, \"bgcolor\": \"#E5ECF6\", \"caxis\": {\"gridcolor\": \"white\", \"linecolor\": \"white\", \"ticks\": \"\"}}, \"title\": {\"x\": 0.05}, \"xaxis\": {\"automargin\": true, \"gridcolor\": \"white\", \"linecolor\": \"white\", \"ticks\": \"\", \"title\": {\"standoff\": 15}, \"zerolinecolor\": \"white\", \"zerolinewidth\": 2}, \"yaxis\": {\"automargin\": true, \"gridcolor\": \"white\", \"linecolor\": \"white\", \"ticks\": \"\", \"title\": {\"standoff\": 15}, \"zerolinecolor\": \"white\", \"zerolinewidth\": 2}}}},\n",
              "                        {\"responsive\": true}\n",
              "                    ).then(function(){\n",
              "                            \n",
              "var gd = document.getElementById('92071fe4-27f8-4d84-81b9-72b6bf77b8ab');\n",
              "var x = new MutationObserver(function (mutations, observer) {{\n",
              "        var display = window.getComputedStyle(gd).display;\n",
              "        if (!display || display === 'none') {{\n",
              "            console.log([gd, 'removed!']);\n",
              "            Plotly.purge(gd);\n",
              "            observer.disconnect();\n",
              "        }}\n",
              "}});\n",
              "\n",
              "// Listen for the removal of the full notebook cells\n",
              "var notebookContainer = gd.closest('#notebook-container');\n",
              "if (notebookContainer) {{\n",
              "    x.observe(notebookContainer, {childList: true});\n",
              "}}\n",
              "\n",
              "// Listen for the clearing of the current output cell\n",
              "var outputEl = gd.closest('.output');\n",
              "if (outputEl) {{\n",
              "    x.observe(outputEl, {childList: true});\n",
              "}}\n",
              "\n",
              "                        })\n",
              "                };\n",
              "                \n",
              "            </script>\n",
              "        </div>\n",
              "</body>\n",
              "</html>"
            ]
          },
          "metadata": {}
        }
      ]
    }
  ]
}